{
 "cells": [
  {
   "cell_type": "markdown",
   "metadata": {},
   "source": [
    "# Практическая работа"
   ]
  },
  {
   "cell_type": "markdown",
   "metadata": {},
   "source": [
    "### Вариант 0"
   ]
  },
  {
   "cell_type": "markdown",
   "metadata": {},
   "source": [
    "### Задание:\n",
    "\n",
    "1. Создать csv-файл со следующими данными\n",
    "\n",
    "> «Футболист»: имя; национальность; рост; вес; дата рождения; название команды; номер в команде; амплуа; результативность (количество голов); количество игр.\n",
    "\n",
    "2. Считать данные из файла, используя библиотеку pandas\n",
    "\n",
    "3. Вывести сведения про футболистов, которые провели за свою команду больше 50 матчей.\n",
    "\n",
    "4. Выполнить визуализацию данных"
   ]
  },
  {
   "cell_type": "code",
   "execution_count": 1,
   "metadata": {},
   "outputs": [],
   "source": [
    "import pandas as pd\n",
    "import seaborn as sns\n",
    "import matplotlib.pyplot as plt"
   ]
  },
  {
   "cell_type": "markdown",
   "metadata": {},
   "source": [
    "## Работа с Pandas"
   ]
  },
  {
   "cell_type": "markdown",
   "metadata": {},
   "source": [
    "Создадим csv-файл со следующим содержимым:\n",
    "\n",
    "имя;национальность;рост;вес;дата рождения;название команды;номер в команде;амплуа;результативность;количество игр\n",
    "\n",
    "Лука Модрич;Хорватия;172;66;9.09.1985;Реал Мадрид;10;полузащитник;9;179\n",
    "\n",
    "Криштиану Роналду;Португалия;187;83;5.02.1985;Ювентус;7;нападающий;12;18\n",
    "\n",
    "..."
   ]
  },
  {
   "cell_type": "markdown",
   "metadata": {},
   "source": [
    "Считаем данные и выведем в виде таблицы"
   ]
  },
  {
   "cell_type": "code",
   "execution_count": 4,
   "metadata": {},
   "outputs": [
    {
     "data": {
      "text/html": [
       "<div>\n",
       "<style scoped>\n",
       "    .dataframe tbody tr th:only-of-type {\n",
       "        vertical-align: middle;\n",
       "    }\n",
       "\n",
       "    .dataframe tbody tr th {\n",
       "        vertical-align: top;\n",
       "    }\n",
       "\n",
       "    .dataframe thead th {\n",
       "        text-align: right;\n",
       "    }\n",
       "</style>\n",
       "<table border=\"1\" class=\"dataframe\">\n",
       "  <thead>\n",
       "    <tr style=\"text-align: right;\">\n",
       "      <th></th>\n",
       "      <th>имя</th>\n",
       "      <th>национальность</th>\n",
       "      <th>рост</th>\n",
       "      <th>вес</th>\n",
       "      <th>дата рождения</th>\n",
       "      <th>название команды</th>\n",
       "      <th>номер в команде</th>\n",
       "      <th>амплуа</th>\n",
       "      <th>результативность</th>\n",
       "      <th>количество игр</th>\n",
       "    </tr>\n",
       "  </thead>\n",
       "  <tbody>\n",
       "    <tr>\n",
       "      <th>0</th>\n",
       "      <td>Лука Модрич</td>\n",
       "      <td>Хорватия</td>\n",
       "      <td>172</td>\n",
       "      <td>66.0</td>\n",
       "      <td>9.09.1985</td>\n",
       "      <td>Реал Мадрид</td>\n",
       "      <td>10</td>\n",
       "      <td>полузащитник</td>\n",
       "      <td>9</td>\n",
       "      <td>179</td>\n",
       "    </tr>\n",
       "    <tr>\n",
       "      <th>1</th>\n",
       "      <td>Криштиану Роналду</td>\n",
       "      <td>Португалия</td>\n",
       "      <td>187</td>\n",
       "      <td>83.0</td>\n",
       "      <td>5.02.1985</td>\n",
       "      <td>Ювентус</td>\n",
       "      <td>7</td>\n",
       "      <td>нападающий</td>\n",
       "      <td>12</td>\n",
       "      <td>18</td>\n",
       "    </tr>\n",
       "    <tr>\n",
       "      <th>2</th>\n",
       "      <td>Антуан Гризманн</td>\n",
       "      <td>Франция</td>\n",
       "      <td>176</td>\n",
       "      <td>73.0</td>\n",
       "      <td>21.03.1991</td>\n",
       "      <td>Атлетико Мадрид</td>\n",
       "      <td>7</td>\n",
       "      <td>нападающий</td>\n",
       "      <td>85</td>\n",
       "      <td>159</td>\n",
       "    </tr>\n",
       "    <tr>\n",
       "      <th>3</th>\n",
       "      <td>Килиан Мбаппе</td>\n",
       "      <td>Франция</td>\n",
       "      <td>178</td>\n",
       "      <td>NaN</td>\n",
       "      <td>20.12.1998</td>\n",
       "      <td>ПСЖ</td>\n",
       "      <td>7</td>\n",
       "      <td>нападающий</td>\n",
       "      <td>26</td>\n",
       "      <td>38</td>\n",
       "    </tr>\n",
       "    <tr>\n",
       "      <th>4</th>\n",
       "      <td>Лионель Месси</td>\n",
       "      <td>Аргентина</td>\n",
       "      <td>170</td>\n",
       "      <td>72.0</td>\n",
       "      <td>24.06.1987</td>\n",
       "      <td>Барселона</td>\n",
       "      <td>10</td>\n",
       "      <td>нападающий</td>\n",
       "      <td>398</td>\n",
       "      <td>433</td>\n",
       "    </tr>\n",
       "    <tr>\n",
       "      <th>5</th>\n",
       "      <td>Мохаммед Салах</td>\n",
       "      <td>Египет</td>\n",
       "      <td>175</td>\n",
       "      <td>71.0</td>\n",
       "      <td>15.06.1992</td>\n",
       "      <td>Ливерпуль</td>\n",
       "      <td>11</td>\n",
       "      <td>нападающий</td>\n",
       "      <td>44</td>\n",
       "      <td>55</td>\n",
       "    </tr>\n",
       "    <tr>\n",
       "      <th>6</th>\n",
       "      <td>Рафаэль Варан</td>\n",
       "      <td>Франция</td>\n",
       "      <td>191</td>\n",
       "      <td>81.0</td>\n",
       "      <td>25.04.1993</td>\n",
       "      <td>Реал Мадрид</td>\n",
       "      <td>5</td>\n",
       "      <td>центральный защитник</td>\n",
       "      <td>2</td>\n",
       "      <td>149</td>\n",
       "    </tr>\n",
       "    <tr>\n",
       "      <th>7</th>\n",
       "      <td>Эден Мишель Азар</td>\n",
       "      <td>Бельгия</td>\n",
       "      <td>173</td>\n",
       "      <td>67.0</td>\n",
       "      <td>7.01.1991</td>\n",
       "      <td>Челси</td>\n",
       "      <td>10</td>\n",
       "      <td>атакующий полузащитник</td>\n",
       "      <td>77</td>\n",
       "      <td>224</td>\n",
       "    </tr>\n",
       "    <tr>\n",
       "      <th>8</th>\n",
       "      <td>Кевин де Брюйне</td>\n",
       "      <td>Бельгия</td>\n",
       "      <td>181</td>\n",
       "      <td>76.0</td>\n",
       "      <td>28.06.1991</td>\n",
       "      <td>Манчестер Сити</td>\n",
       "      <td>17</td>\n",
       "      <td>полузащитник</td>\n",
       "      <td>21</td>\n",
       "      <td>100</td>\n",
       "    </tr>\n",
       "    <tr>\n",
       "      <th>9</th>\n",
       "      <td>Харри Кейн</td>\n",
       "      <td>Англия</td>\n",
       "      <td>188</td>\n",
       "      <td>86.0</td>\n",
       "      <td>28.07.1993</td>\n",
       "      <td>Тоттенхэм Хотспур</td>\n",
       "      <td>10</td>\n",
       "      <td>нападающий</td>\n",
       "      <td>109</td>\n",
       "      <td>152</td>\n",
       "    </tr>\n",
       "    <tr>\n",
       "      <th>10</th>\n",
       "      <td>Нголо Канте</td>\n",
       "      <td>Франция</td>\n",
       "      <td>168</td>\n",
       "      <td>68.0</td>\n",
       "      <td>29.03.1991</td>\n",
       "      <td>Челси</td>\n",
       "      <td>7</td>\n",
       "      <td>опорный полузащитник</td>\n",
       "      <td>4</td>\n",
       "      <td>86</td>\n",
       "    </tr>\n",
       "    <tr>\n",
       "      <th>11</th>\n",
       "      <td>Неймар</td>\n",
       "      <td>Бразилия</td>\n",
       "      <td>175</td>\n",
       "      <td>68.0</td>\n",
       "      <td>5.02.1992</td>\n",
       "      <td>ПСЖ</td>\n",
       "      <td>10</td>\n",
       "      <td>нападающий</td>\n",
       "      <td>43</td>\n",
       "      <td>49</td>\n",
       "    </tr>\n",
       "  </tbody>\n",
       "</table>\n",
       "</div>"
      ],
      "text/plain": [
       "                  имя национальность  рост   вес дата рождения  \\\n",
       "0         Лука Модрич       Хорватия   172  66.0     9.09.1985   \n",
       "1   Криштиану Роналду     Португалия   187  83.0     5.02.1985   \n",
       "2     Антуан Гризманн        Франция   176  73.0    21.03.1991   \n",
       "3       Килиан Мбаппе        Франция   178   NaN    20.12.1998   \n",
       "4       Лионель Месси      Аргентина   170  72.0    24.06.1987   \n",
       "5      Мохаммед Салах         Египет   175  71.0    15.06.1992   \n",
       "6       Рафаэль Варан        Франция   191  81.0    25.04.1993   \n",
       "7    Эден Мишель Азар        Бельгия   173  67.0     7.01.1991   \n",
       "8     Кевин де Брюйне        Бельгия   181  76.0    28.06.1991   \n",
       "9          Харри Кейн         Англия   188  86.0    28.07.1993   \n",
       "10        Нголо Канте        Франция   168  68.0    29.03.1991   \n",
       "11             Неймар       Бразилия   175  68.0     5.02.1992   \n",
       "\n",
       "     название команды  номер в команде                  амплуа  \\\n",
       "0         Реал Мадрид               10            полузащитник   \n",
       "1             Ювентус                7              нападающий   \n",
       "2     Атлетико Мадрид                7              нападающий   \n",
       "3                 ПСЖ                7              нападающий   \n",
       "4           Барселона               10              нападающий   \n",
       "5           Ливерпуль               11              нападающий   \n",
       "6         Реал Мадрид                5    центральный защитник   \n",
       "7               Челси               10  атакующий полузащитник   \n",
       "8      Манчестер Сити               17            полузащитник   \n",
       "9   Тоттенхэм Хотспур               10              нападающий   \n",
       "10              Челси                7    опорный полузащитник   \n",
       "11                ПСЖ               10              нападающий   \n",
       "\n",
       "    результативность  количество игр  \n",
       "0                  9             179  \n",
       "1                 12              18  \n",
       "2                 85             159  \n",
       "3                 26              38  \n",
       "4                398             433  \n",
       "5                 44              55  \n",
       "6                  2             149  \n",
       "7                 77             224  \n",
       "8                 21             100  \n",
       "9                109             152  \n",
       "10                 4              86  \n",
       "11                43              49  "
      ]
     },
     "execution_count": 4,
     "metadata": {},
     "output_type": "execute_result"
    }
   ],
   "source": [
    "df = pd.read_csv('data.csv', sep=';')\n",
    "df.head(12)"
   ]
  },
  {
   "cell_type": "markdown",
   "metadata": {},
   "source": [
    "Выведем сведения о футболистах, которые провели за свою команду больше 50 матчей"
   ]
  },
  {
   "cell_type": "code",
   "execution_count": 17,
   "metadata": {},
   "outputs": [
    {
     "data": {
      "text/html": [
       "<div>\n",
       "<style scoped>\n",
       "    .dataframe tbody tr th:only-of-type {\n",
       "        vertical-align: middle;\n",
       "    }\n",
       "\n",
       "    .dataframe tbody tr th {\n",
       "        vertical-align: top;\n",
       "    }\n",
       "\n",
       "    .dataframe thead th {\n",
       "        text-align: right;\n",
       "    }\n",
       "</style>\n",
       "<table border=\"1\" class=\"dataframe\">\n",
       "  <thead>\n",
       "    <tr style=\"text-align: right;\">\n",
       "      <th></th>\n",
       "      <th>имя</th>\n",
       "      <th>национальность</th>\n",
       "      <th>рост</th>\n",
       "      <th>вес</th>\n",
       "      <th>дата рождения</th>\n",
       "      <th>название команды</th>\n",
       "      <th>номер в команде</th>\n",
       "      <th>амплуа</th>\n",
       "      <th>результативность</th>\n",
       "      <th>количество игр</th>\n",
       "    </tr>\n",
       "  </thead>\n",
       "  <tbody>\n",
       "    <tr>\n",
       "      <th>0</th>\n",
       "      <td>Лука Модрич</td>\n",
       "      <td>Хорватия</td>\n",
       "      <td>172</td>\n",
       "      <td>66.0</td>\n",
       "      <td>1985-09-09</td>\n",
       "      <td>Реал Мадрид</td>\n",
       "      <td>10</td>\n",
       "      <td>полузащитник</td>\n",
       "      <td>9</td>\n",
       "      <td>179</td>\n",
       "    </tr>\n",
       "    <tr>\n",
       "      <th>2</th>\n",
       "      <td>Антуан Гризманн</td>\n",
       "      <td>Франция</td>\n",
       "      <td>176</td>\n",
       "      <td>73.0</td>\n",
       "      <td>1991-03-21</td>\n",
       "      <td>Атлетико Мадрид</td>\n",
       "      <td>7</td>\n",
       "      <td>нападающий</td>\n",
       "      <td>85</td>\n",
       "      <td>159</td>\n",
       "    </tr>\n",
       "    <tr>\n",
       "      <th>4</th>\n",
       "      <td>Лионель Месси</td>\n",
       "      <td>Аргентина</td>\n",
       "      <td>170</td>\n",
       "      <td>72.0</td>\n",
       "      <td>1987-06-24</td>\n",
       "      <td>Барселона</td>\n",
       "      <td>10</td>\n",
       "      <td>нападающий</td>\n",
       "      <td>398</td>\n",
       "      <td>433</td>\n",
       "    </tr>\n",
       "    <tr>\n",
       "      <th>5</th>\n",
       "      <td>Мохаммед Салах</td>\n",
       "      <td>Египет</td>\n",
       "      <td>175</td>\n",
       "      <td>71.0</td>\n",
       "      <td>1992-06-15</td>\n",
       "      <td>Ливерпуль</td>\n",
       "      <td>11</td>\n",
       "      <td>нападающий</td>\n",
       "      <td>44</td>\n",
       "      <td>55</td>\n",
       "    </tr>\n",
       "    <tr>\n",
       "      <th>6</th>\n",
       "      <td>Рафаэль Варан</td>\n",
       "      <td>Франция</td>\n",
       "      <td>191</td>\n",
       "      <td>81.0</td>\n",
       "      <td>1993-04-25</td>\n",
       "      <td>Реал Мадрид</td>\n",
       "      <td>5</td>\n",
       "      <td>центральный защитник</td>\n",
       "      <td>2</td>\n",
       "      <td>149</td>\n",
       "    </tr>\n",
       "    <tr>\n",
       "      <th>7</th>\n",
       "      <td>Эден Мишель Азар</td>\n",
       "      <td>Бельгия</td>\n",
       "      <td>173</td>\n",
       "      <td>67.0</td>\n",
       "      <td>1991-07-01</td>\n",
       "      <td>Челси</td>\n",
       "      <td>10</td>\n",
       "      <td>атакующий полузащитник</td>\n",
       "      <td>77</td>\n",
       "      <td>224</td>\n",
       "    </tr>\n",
       "    <tr>\n",
       "      <th>8</th>\n",
       "      <td>Кевин де Брюйне</td>\n",
       "      <td>Бельгия</td>\n",
       "      <td>181</td>\n",
       "      <td>76.0</td>\n",
       "      <td>1991-06-28</td>\n",
       "      <td>Манчестер Сити</td>\n",
       "      <td>17</td>\n",
       "      <td>полузащитник</td>\n",
       "      <td>21</td>\n",
       "      <td>100</td>\n",
       "    </tr>\n",
       "    <tr>\n",
       "      <th>9</th>\n",
       "      <td>Харри Кейн</td>\n",
       "      <td>Англия</td>\n",
       "      <td>188</td>\n",
       "      <td>86.0</td>\n",
       "      <td>1993-07-28</td>\n",
       "      <td>Тоттенхэм Хотспур</td>\n",
       "      <td>10</td>\n",
       "      <td>нападающий</td>\n",
       "      <td>109</td>\n",
       "      <td>152</td>\n",
       "    </tr>\n",
       "    <tr>\n",
       "      <th>10</th>\n",
       "      <td>Нголо Канте</td>\n",
       "      <td>Франция</td>\n",
       "      <td>168</td>\n",
       "      <td>68.0</td>\n",
       "      <td>1991-03-29</td>\n",
       "      <td>Челси</td>\n",
       "      <td>7</td>\n",
       "      <td>опорный полузащитник</td>\n",
       "      <td>4</td>\n",
       "      <td>86</td>\n",
       "    </tr>\n",
       "  </tbody>\n",
       "</table>\n",
       "</div>"
      ],
      "text/plain": [
       "                 имя национальность  рост   вес дата рождения  \\\n",
       "0        Лука Модрич       Хорватия   172  66.0    1985-09-09   \n",
       "2    Антуан Гризманн        Франция   176  73.0    1991-03-21   \n",
       "4      Лионель Месси      Аргентина   170  72.0    1987-06-24   \n",
       "5     Мохаммед Салах         Египет   175  71.0    1992-06-15   \n",
       "6      Рафаэль Варан        Франция   191  81.0    1993-04-25   \n",
       "7   Эден Мишель Азар        Бельгия   173  67.0    1991-07-01   \n",
       "8    Кевин де Брюйне        Бельгия   181  76.0    1991-06-28   \n",
       "9         Харри Кейн         Англия   188  86.0    1993-07-28   \n",
       "10       Нголо Канте        Франция   168  68.0    1991-03-29   \n",
       "\n",
       "     название команды  номер в команде                  амплуа  \\\n",
       "0         Реал Мадрид               10            полузащитник   \n",
       "2     Атлетико Мадрид                7              нападающий   \n",
       "4           Барселона               10              нападающий   \n",
       "5           Ливерпуль               11              нападающий   \n",
       "6         Реал Мадрид                5    центральный защитник   \n",
       "7               Челси               10  атакующий полузащитник   \n",
       "8      Манчестер Сити               17            полузащитник   \n",
       "9   Тоттенхэм Хотспур               10              нападающий   \n",
       "10              Челси                7    опорный полузащитник   \n",
       "\n",
       "    результативность  количество игр  \n",
       "0                  9             179  \n",
       "2                 85             159  \n",
       "4                398             433  \n",
       "5                 44              55  \n",
       "6                  2             149  \n",
       "7                 77             224  \n",
       "8                 21             100  \n",
       "9                109             152  \n",
       "10                 4              86  "
      ]
     },
     "execution_count": 17,
     "metadata": {},
     "output_type": "execute_result"
    }
   ],
   "source": [
    "df[df['количество игр'] > 50]"
   ]
  },
  {
   "cell_type": "markdown",
   "metadata": {},
   "source": [
    "Дополнительно: работа с датами. Сначала необходимо конвертировать текстовые данные в формат даты."
   ]
  },
  {
   "cell_type": "code",
   "execution_count": 8,
   "metadata": {},
   "outputs": [],
   "source": [
    "df['дата рождения'] = df['дата рождения'].apply(pd.to_datetime)"
   ]
  },
  {
   "cell_type": "markdown",
   "metadata": {},
   "source": [
    "Выведем данные по самому возрастному футболисту"
   ]
  },
  {
   "cell_type": "code",
   "execution_count": 12,
   "metadata": {},
   "outputs": [
    {
     "data": {
      "text/plain": [
       "имя                   Криштиану Роналду\n",
       "национальность               Португалия\n",
       "рост                                187\n",
       "вес                                  83\n",
       "дата рождения       1985-05-02 00:00:00\n",
       "название команды                Ювентус\n",
       "номер в команде                       7\n",
       "амплуа                       нападающий\n",
       "результативность                     12\n",
       "количество игр                       18\n",
       "Name: 1, dtype: object"
      ]
     },
     "execution_count": 12,
     "metadata": {},
     "output_type": "execute_result"
    }
   ],
   "source": [
    "df.sort_values(['дата рождения']).iloc[0]"
   ]
  },
  {
   "cell_type": "markdown",
   "metadata": {},
   "source": [
    "А теперь по самому молодому"
   ]
  },
  {
   "cell_type": "code",
   "execution_count": 14,
   "metadata": {},
   "outputs": [
    {
     "data": {
      "text/plain": [
       "имя                       Килиан Мбаппе\n",
       "национальность                  Франция\n",
       "рост                                178\n",
       "вес                                 NaN\n",
       "дата рождения       1998-12-20 00:00:00\n",
       "название команды                    ПСЖ\n",
       "номер в команде                       7\n",
       "амплуа                       нападающий\n",
       "результативность                     26\n",
       "количество игр                       38\n",
       "Name: 3, dtype: object"
      ]
     },
     "execution_count": 14,
     "metadata": {},
     "output_type": "execute_result"
    }
   ],
   "source": [
    "df.sort_values(['дата рождения'], ascending=False).iloc[0]"
   ]
  },
  {
   "cell_type": "markdown",
   "metadata": {},
   "source": [
    "## Визуализация данных"
   ]
  },
  {
   "cell_type": "markdown",
   "metadata": {},
   "source": [
    "Пример работы с функцией **countplot**\n",
    "\n",
    "Подсчитаем количество футболистов по поциональностям"
   ]
  },
  {
   "cell_type": "code",
   "execution_count": 22,
   "metadata": {},
   "outputs": [
    {
     "data": {
      "image/png": "[encoded data removed]",
      "text/plain": [
       "<Figure size 720x360 with 1 Axes>"
      ]
     },
     "metadata": {},
     "output_type": "display_data"
    }
   ],
   "source": [
    "plt.figure(figsize=(10,5))\n",
    "sns.countplot(x='национальность', data=df);"
   ]
  },
  {
   "cell_type": "markdown",
   "metadata": {},
   "source": [
    "Теперь посмотрим на соотвествие номеров игроков и их позиций"
   ]
  },
  {
   "cell_type": "code",
   "execution_count": 33,
   "metadata": {},
   "outputs": [
    {
     "data": {
      "image/png": "[encoded data removed]",
      "text/plain": [
       "<Figure size 1080x360 with 1 Axes>"
      ]
     },
     "metadata": {},
     "output_type": "display_data"
    }
   ],
   "source": [
    "plt.figure(figsize=(15,5))\n",
    "sns.countplot(x='амплуа', hue='номер в команде', data=df);"
   ]
  },
  {
   "cell_type": "markdown",
   "metadata": {},
   "source": [
    "Пример работы с функцией **bar**\n",
    "\n",
    "Выведем средний рост игроков по позициям"
   ]
  },
  {
   "cell_type": "code",
   "execution_count": 52,
   "metadata": {},
   "outputs": [
    {
     "data": {
      "image/png": "[encoded data removed]",
      "text/plain": [
       "<Figure size 720x360 with 1 Axes>"
      ]
     },
     "metadata": {},
     "output_type": "display_data"
    }
   ],
   "source": [
    "plt.figure(figsize=(10,5))\n",
    "average_height = df.groupby('амплуа')['рост'].mean()\n",
    "plt.bar(average_height.index, average_height.values);"
   ]
  },
  {
   "cell_type": "markdown",
   "metadata": {},
   "source": [
    "И суммарное количество голов в зависимости от амплуа"
   ]
  },
  {
   "cell_type": "code",
   "execution_count": 51,
   "metadata": {},
   "outputs": [
    {
     "data": {
      "image/png": "[encoded data removed]",
      "text/plain": [
       "<Figure size 720x360 with 1 Axes>"
      ]
     },
     "metadata": {},
     "output_type": "display_data"
    }
   ],
   "source": [
    "plt.figure(figsize=(10,5))\n",
    "average_height = df.groupby('амплуа')['результативность'].sum()\n",
    "plt.bar(average_height.index, average_height.values);"
   ]
  }
 ],
 "metadata": {
  "kernelspec": {
   "display_name": "Python 3",
   "language": "python",
   "name": "python3"
  },
  "language_info": {
   "codemirror_mode": {
    "name": "ipython",
    "version": 3
   },
   "file_extension": ".py",
   "mimetype": "text/x-python",
   "name": "python",
   "nbconvert_exporter": "python",
   "pygments_lexer": "ipython3",
   "version": "3.6.5"
  }
 },
 "nbformat": 4,
 "nbformat_minor": 2
}
