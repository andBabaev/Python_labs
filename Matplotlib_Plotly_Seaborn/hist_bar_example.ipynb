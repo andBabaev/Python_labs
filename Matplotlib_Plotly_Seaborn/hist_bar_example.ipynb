{
 "cells": [
  {
   "cell_type": "code",
   "execution_count": 1,
   "metadata": {},
   "outputs": [
    {
     "data": {
      "text/html": [
       "<script>requirejs.config({paths: { 'plotly': ['https://cdn.plot.ly/plotly-latest.min']},});if(!window.Plotly) {{require(['plotly'],function(plotly) {window.Plotly=plotly;});}}</script>"
      ],
      "text/vnd.plotly.v1+html": [
       "<script>requirejs.config({paths: { 'plotly': ['https://cdn.plot.ly/plotly-latest.min']},});if(!window.Plotly) {{require(['plotly'],function(plotly) {window.Plotly=plotly;});}}</script>"
      ]
     },
     "metadata": {},
     "output_type": "display_data"
    }
   ],
   "source": [
    "import pandas as pd\n",
    "import matplotlib.pyplot as plt\n",
    "import seaborn as sns\n",
    "import numpy as np\n",
    "\n",
    "from plotly.offline import download_plotlyjs, init_notebook_mode, plot, iplot\n",
    "import plotly.graph_objs as go\n",
    "\n",
    "# отключим предупреждения Anaconda\n",
    "import warnings\n",
    "warnings.simplefilter('ignore')\n",
    "\n",
    "init_notebook_mode(connected=True)"
   ]
  },
  {
   "cell_type": "markdown",
   "metadata": {},
   "source": [
    "## Гистограммы"
   ]
  },
  {
   "cell_type": "code",
   "execution_count": 29,
   "metadata": {},
   "outputs": [
    {
     "data": {
      "image/png": "[encoded data removed]",
      "text/plain": [
       "<Figure size 432x288 with 1 Axes>"
      ]
     },
     "metadata": {
      "needs_background": "light"
     },
     "output_type": "display_data"
    }
   ],
   "source": [
    "x = 100 + 15 * np.random.randn(10000)\n",
    "\n",
    "# the histogram of the data\n",
    "plt.hist(x, 50, density=True, facecolor='g', alpha=0.75)\n",
    "plt.axis([40, 160, 0, 0.03])\n",
    "plt.grid(True)"
   ]
  },
  {
   "cell_type": "markdown",
   "metadata": {},
   "source": [
    "## Столбчатые диаграммы"
   ]
  },
  {
   "cell_type": "code",
   "execution_count": 31,
   "metadata": {},
   "outputs": [
    {
     "data": {
      "image/png": "[encoded data removed]",
      "text/plain": [
       "<Figure size 432x288 with 1 Axes>"
      ]
     },
     "metadata": {
      "needs_background": "light"
     },
     "output_type": "display_data"
    }
   ],
   "source": [
    "names = ['group_a', 'group_b', 'group_c']\n",
    "values = [1, 10, 100]\n",
    "\n",
    "plt.bar(names, values);"
   ]
  },
  {
   "cell_type": "markdown",
   "metadata": {},
   "source": [
    "## Реальные данные + seaborn, pyplot,pandas"
   ]
  },
  {
   "cell_type": "markdown",
   "metadata": {},
   "source": [
    "Все примеры сделаны на основе данных об участниках Олимпийских игр"
   ]
  },
  {
   "cell_type": "code",
   "execution_count": 2,
   "metadata": {},
   "outputs": [
    {
     "data": {
      "text/html": [
       "<div>\n",
       "<style scoped>\n",
       "    .dataframe tbody tr th:only-of-type {\n",
       "        vertical-align: middle;\n",
       "    }\n",
       "\n",
       "    .dataframe tbody tr th {\n",
       "        vertical-align: top;\n",
       "    }\n",
       "\n",
       "    .dataframe thead th {\n",
       "        text-align: right;\n",
       "    }\n",
       "</style>\n",
       "<table border=\"1\" class=\"dataframe\">\n",
       "  <thead>\n",
       "    <tr style=\"text-align: right;\">\n",
       "      <th></th>\n",
       "      <th>ID</th>\n",
       "      <th>Name</th>\n",
       "      <th>Sex</th>\n",
       "      <th>Age</th>\n",
       "      <th>Height</th>\n",
       "      <th>Weight</th>\n",
       "      <th>Team</th>\n",
       "      <th>NOC</th>\n",
       "      <th>Games</th>\n",
       "      <th>Year</th>\n",
       "      <th>Season</th>\n",
       "      <th>City</th>\n",
       "      <th>Sport</th>\n",
       "      <th>Event</th>\n",
       "      <th>Medal</th>\n",
       "    </tr>\n",
       "  </thead>\n",
       "  <tbody>\n",
       "    <tr>\n",
       "      <th>0</th>\n",
       "      <td>1</td>\n",
       "      <td>A Dijiang</td>\n",
       "      <td>M</td>\n",
       "      <td>24.0</td>\n",
       "      <td>180.0</td>\n",
       "      <td>80.0</td>\n",
       "      <td>China</td>\n",
       "      <td>CHN</td>\n",
       "      <td>1992 Summer</td>\n",
       "      <td>1992</td>\n",
       "      <td>Summer</td>\n",
       "      <td>Barcelona</td>\n",
       "      <td>Basketball</td>\n",
       "      <td>Basketball Men's Basketball</td>\n",
       "      <td>NaN</td>\n",
       "    </tr>\n",
       "    <tr>\n",
       "      <th>1</th>\n",
       "      <td>2</td>\n",
       "      <td>A Lamusi</td>\n",
       "      <td>M</td>\n",
       "      <td>23.0</td>\n",
       "      <td>170.0</td>\n",
       "      <td>60.0</td>\n",
       "      <td>China</td>\n",
       "      <td>CHN</td>\n",
       "      <td>2012 Summer</td>\n",
       "      <td>2012</td>\n",
       "      <td>Summer</td>\n",
       "      <td>London</td>\n",
       "      <td>Judo</td>\n",
       "      <td>Judo Men's Extra-Lightweight</td>\n",
       "      <td>NaN</td>\n",
       "    </tr>\n",
       "    <tr>\n",
       "      <th>2</th>\n",
       "      <td>3</td>\n",
       "      <td>Gunnar Nielsen Aaby</td>\n",
       "      <td>M</td>\n",
       "      <td>24.0</td>\n",
       "      <td>NaN</td>\n",
       "      <td>NaN</td>\n",
       "      <td>Denmark</td>\n",
       "      <td>DEN</td>\n",
       "      <td>1920 Summer</td>\n",
       "      <td>1920</td>\n",
       "      <td>Summer</td>\n",
       "      <td>Antwerpen</td>\n",
       "      <td>Football</td>\n",
       "      <td>Football Men's Football</td>\n",
       "      <td>NaN</td>\n",
       "    </tr>\n",
       "    <tr>\n",
       "      <th>3</th>\n",
       "      <td>4</td>\n",
       "      <td>Edgar Lindenau Aabye</td>\n",
       "      <td>M</td>\n",
       "      <td>34.0</td>\n",
       "      <td>NaN</td>\n",
       "      <td>NaN</td>\n",
       "      <td>Denmark/Sweden</td>\n",
       "      <td>DEN</td>\n",
       "      <td>1900 Summer</td>\n",
       "      <td>1900</td>\n",
       "      <td>Summer</td>\n",
       "      <td>Paris</td>\n",
       "      <td>Tug-Of-War</td>\n",
       "      <td>Tug-Of-War Men's Tug-Of-War</td>\n",
       "      <td>Gold</td>\n",
       "    </tr>\n",
       "    <tr>\n",
       "      <th>4</th>\n",
       "      <td>5</td>\n",
       "      <td>Christine Jacoba Aaftink</td>\n",
       "      <td>F</td>\n",
       "      <td>21.0</td>\n",
       "      <td>185.0</td>\n",
       "      <td>82.0</td>\n",
       "      <td>Netherlands</td>\n",
       "      <td>NED</td>\n",
       "      <td>1988 Winter</td>\n",
       "      <td>1988</td>\n",
       "      <td>Winter</td>\n",
       "      <td>Calgary</td>\n",
       "      <td>Speed Skating</td>\n",
       "      <td>Speed Skating Women's 500 metres</td>\n",
       "      <td>NaN</td>\n",
       "    </tr>\n",
       "  </tbody>\n",
       "</table>\n",
       "</div>"
      ],
      "text/plain": [
       "   ID                      Name Sex   Age  Height  Weight            Team  \\\n",
       "0   1                 A Dijiang   M  24.0   180.0    80.0           China   \n",
       "1   2                  A Lamusi   M  23.0   170.0    60.0           China   \n",
       "2   3       Gunnar Nielsen Aaby   M  24.0     NaN     NaN         Denmark   \n",
       "3   4      Edgar Lindenau Aabye   M  34.0     NaN     NaN  Denmark/Sweden   \n",
       "4   5  Christine Jacoba Aaftink   F  21.0   185.0    82.0     Netherlands   \n",
       "\n",
       "   NOC        Games  Year  Season       City          Sport  \\\n",
       "0  CHN  1992 Summer  1992  Summer  Barcelona     Basketball   \n",
       "1  CHN  2012 Summer  2012  Summer     London           Judo   \n",
       "2  DEN  1920 Summer  1920  Summer  Antwerpen       Football   \n",
       "3  DEN  1900 Summer  1900  Summer      Paris     Tug-Of-War   \n",
       "4  NED  1988 Winter  1988  Winter    Calgary  Speed Skating   \n",
       "\n",
       "                              Event Medal  \n",
       "0       Basketball Men's Basketball   NaN  \n",
       "1      Judo Men's Extra-Lightweight   NaN  \n",
       "2           Football Men's Football   NaN  \n",
       "3       Tug-Of-War Men's Tug-Of-War  Gold  \n",
       "4  Speed Skating Women's 500 metres   NaN  "
      ]
     },
     "execution_count": 2,
     "metadata": {},
     "output_type": "execute_result"
    }
   ],
   "source": [
    "df = pd.read_csv('athlete_events.csv')\n",
    "df.head()"
   ]
  },
  {
   "cell_type": "code",
   "execution_count": 3,
   "metadata": {},
   "outputs": [
    {
     "data": {
      "text/plain": [
       "(271116, 15)"
      ]
     },
     "execution_count": 3,
     "metadata": {},
     "output_type": "execute_result"
    }
   ],
   "source": [
    "df.shape"
   ]
  },
  {
   "cell_type": "markdown",
   "metadata": {},
   "source": [
    "Покажем распределение количества участников по разным олимпиадам разных лет"
   ]
  },
  {
   "cell_type": "code",
   "execution_count": 8,
   "metadata": {},
   "outputs": [
    {
     "data": {
      "image/png": "[encoded data removed]",
      "text/plain": [
       "<Figure size 432x288 with 1 Axes>"
      ]
     },
     "metadata": {
      "needs_background": "light"
     },
     "output_type": "display_data"
    }
   ],
   "source": [
    "df.Year.hist();"
   ]
  },
  {
   "cell_type": "code",
   "execution_count": 74,
   "metadata": {},
   "outputs": [
    {
     "data": {
      "image/png": "[encoded data removed]",
      "text/plain": [
       "<Figure size 432x288 with 1 Axes>"
      ]
     },
     "metadata": {
      "needs_background": "light"
     },
     "output_type": "display_data"
    }
   ],
   "source": [
    "sns.distplot(df.Year, bins=10);"
   ]
  },
  {
   "cell_type": "markdown",
   "metadata": {},
   "source": [
    "Просто красиво"
   ]
  },
  {
   "cell_type": "code",
   "execution_count": 71,
   "metadata": {},
   "outputs": [
    {
     "data": {
      "text/plain": [
       "<matplotlib.axes._subplots.AxesSubplot at 0x1d8517d19e8>"
      ]
     },
     "execution_count": 71,
     "metadata": {},
     "output_type": "execute_result"
    },
    {
     "data": {
      "image/png": "[encoded data removed]",
      "text/plain": [
       "<Figure size 432x288 with 1 Axes>"
      ]
     },
     "metadata": {
      "needs_background": "light"
     },
     "output_type": "display_data"
    }
   ],
   "source": [
    "sns.violinplot(x='Height', data=df)"
   ]
  },
  {
   "cell_type": "markdown",
   "metadata": {},
   "source": [
    "Покажем количество золотых медалей Китая по годам"
   ]
  },
  {
   "cell_type": "code",
   "execution_count": 53,
   "metadata": {},
   "outputs": [
    {
     "data": {
      "text/plain": [
       "2008    72\n",
       "2012    50\n",
       "2016    44\n",
       "2004    42\n",
       "2000    31\n",
       "1984    24\n",
       "1992    14\n",
       "1996    13\n",
       "2010     7\n",
       "1988     4\n",
       "2014     3\n",
       "2006     2\n",
       "2002     2\n",
       "Name: Year, dtype: int64"
      ]
     },
     "execution_count": 53,
     "metadata": {},
     "output_type": "execute_result"
    }
   ],
   "source": [
    "china_gold = df[(df.Medal == 'Gold') &\n",
    "                (df.Team == 'China')].Year.value_counts()\n",
    "china_gold"
   ]
  },
  {
   "cell_type": "code",
   "execution_count": 51,
   "metadata": {},
   "outputs": [
    {
     "data": {
      "image/png": "[encoded data removed]",
      "text/plain": [
       "<Figure size 432x288 with 1 Axes>"
      ]
     },
     "metadata": {
      "needs_background": "light"
     },
     "output_type": "display_data"
    }
   ],
   "source": [
    "china_gold.plot(kind='bar');"
   ]
  },
  {
   "cell_type": "code",
   "execution_count": 52,
   "metadata": {},
   "outputs": [
    {
     "data": {
      "image/png": "[encoded data removed]",
      "text/plain": [
       "<Figure size 432x288 with 1 Axes>"
      ]
     },
     "metadata": {
      "needs_background": "light"
     },
     "output_type": "display_data"
    }
   ],
   "source": [
    "china_gold.plot.bar();"
   ]
  },
  {
   "cell_type": "markdown",
   "metadata": {},
   "source": [
    "Для сохранения порядка годов воспользуемся seaborn"
   ]
  },
  {
   "cell_type": "code",
   "execution_count": 55,
   "metadata": {},
   "outputs": [
    {
     "data": {
      "image/png": "[encoded data removed]",
      "text/plain": [
       "<Figure size 432x288 with 1 Axes>"
      ]
     },
     "metadata": {
      "needs_background": "light"
     },
     "output_type": "display_data"
    }
   ],
   "source": [
    "sns.countplot(df[(df.Medal == 'Gold') &\n",
    "                 (df.Team == 'China')].Year);"
   ]
  },
  {
   "cell_type": "markdown",
   "metadata": {},
   "source": [
    "Seaborn позволяется также строить распределение для нескольких прзнаков"
   ]
  },
  {
   "cell_type": "code",
   "execution_count": 67,
   "metadata": {},
   "outputs": [
    {
     "data": {
      "image/png": "[encoded data removed]",
      "text/plain": [
       "<Figure size 720x720 with 2 Axes>"
      ]
     },
     "metadata": {
      "needs_background": "light"
     },
     "output_type": "display_data"
    }
   ],
   "source": [
    "plt.figure(figsize=(10,10))\n",
    "\n",
    "plt.subplot(2,1,1)\n",
    "sns.countplot(x='Year', \n",
    "              hue='Medal',\n",
    "              data=df[df.Team == 'China']);\n",
    "\n",
    "plt.subplot(2,1,2)\n",
    "sns.countplot(x='Year', \n",
    "              hue='Medal',\n",
    "              data=df[(df.Team == 'China') & (~df.Medal.isna())]);"
   ]
  },
  {
   "cell_type": "markdown",
   "metadata": {},
   "source": [
    "### Интерактивные диаграммы с Plotly"
   ]
  },
  {
   "cell_type": "code",
   "execution_count": 82,
   "metadata": {},
   "outputs": [
    {
     "data": {
      "application/vnd.plotly.v1+json": {
       "data": [
        {
         "name": "SF Zoo",
         "type": "bar",
         "uid": "5de4c966-d564-11e8-a1f2-40167e8eb1f3",
         "x": [
          "giraffes",
          "orangutans",
          "monkeys"
         ],
         "y": [
          20,
          14,
          23
         ]
        },
        {
         "name": "LA Zoo",
         "type": "bar",
         "uid": "5de4c967-d564-11e8-916d-40167e8eb1f3",
         "x": [
          "giraffes",
          "orangutans",
          "monkeys"
         ],
         "y": [
          12,
          18,
          29
         ]
        }
       ],
       "layout": {
        "barmode": "group"
       }
      },
      "text/html": [
       "<div id=\"79b3849a-f408-4fab-90bf-ea2a435eb3a7\" style=\"height: 525px; width: 100%;\" class=\"plotly-graph-div\"></div><script type=\"text/javascript\">require([\"plotly\"], function(Plotly) { window.PLOTLYENV=window.PLOTLYENV || {};window.PLOTLYENV.BASE_URL=\"https://plot.ly\";Plotly.newPlot(\"79b3849a-f408-4fab-90bf-ea2a435eb3a7\", [{\"name\": \"SF Zoo\", \"x\": [\"giraffes\", \"orangutans\", \"monkeys\"], \"y\": [20, 14, 23], \"type\": \"bar\", \"uid\": \"5de4c966-d564-11e8-a1f2-40167e8eb1f3\"}, {\"name\": \"LA Zoo\", \"x\": [\"giraffes\", \"orangutans\", \"monkeys\"], \"y\": [12, 18, 29], \"type\": \"bar\", \"uid\": \"5de4c967-d564-11e8-916d-40167e8eb1f3\"}], {\"barmode\": \"group\"}, {\"showLink\": true, \"linkText\": \"Export to plot.ly\"})});</script>"
      ],
      "text/vnd.plotly.v1+html": [
       "<div id=\"79b3849a-f408-4fab-90bf-ea2a435eb3a7\" style=\"height: 525px; width: 100%;\" class=\"plotly-graph-div\"></div><script type=\"text/javascript\">require([\"plotly\"], function(Plotly) { window.PLOTLYENV=window.PLOTLYENV || {};window.PLOTLYENV.BASE_URL=\"https://plot.ly\";Plotly.newPlot(\"79b3849a-f408-4fab-90bf-ea2a435eb3a7\", [{\"name\": \"SF Zoo\", \"x\": [\"giraffes\", \"orangutans\", \"monkeys\"], \"y\": [20, 14, 23], \"type\": \"bar\", \"uid\": \"5de4c966-d564-11e8-a1f2-40167e8eb1f3\"}, {\"name\": \"LA Zoo\", \"x\": [\"giraffes\", \"orangutans\", \"monkeys\"], \"y\": [12, 18, 29], \"type\": \"bar\", \"uid\": \"5de4c967-d564-11e8-916d-40167e8eb1f3\"}], {\"barmode\": \"group\"}, {\"showLink\": true, \"linkText\": \"Export to plot.ly\"})});</script>"
      ]
     },
     "metadata": {},
     "output_type": "display_data"
    }
   ],
   "source": [
    "trace1 = go.Bar(\n",
    "    x=['giraffes', 'orangutans', 'monkeys'],\n",
    "    y=[20, 14, 23],\n",
    "    name='SF Zoo'\n",
    ")\n",
    "trace2 = go.Bar(\n",
    "    x=['giraffes', 'orangutans', 'monkeys'],\n",
    "    y=[12, 18, 29],\n",
    "    name='LA Zoo'\n",
    ")\n",
    "\n",
    "data = [trace1, trace2]\n",
    "layout = go.Layout(\n",
    "    barmode='group'\n",
    ")\n",
    "\n",
    "fig = go.Figure(data=data, layout=layout)\n",
    "iplot(fig)"
   ]
  },
  {
   "cell_type": "code",
   "execution_count": 110,
   "metadata": {},
   "outputs": [
    {
     "data": {
      "text/plain": [
       "Year\n",
       "1984     74\n",
       "1988     50\n",
       "1992     73\n",
       "1994      3\n",
       "1996     94\n",
       "1998     14\n",
       "2000     65\n",
       "2002     14\n",
       "2004     82\n",
       "2006      9\n",
       "2008    170\n",
       "2010     15\n",
       "2012    117\n",
       "2014     12\n",
       "2016    109\n",
       "Name: Medal, dtype: int64"
      ]
     },
     "execution_count": 110,
     "metadata": {},
     "output_type": "execute_result"
    }
   ],
   "source": [
    "group = df[(df.Team == 'China') & (~df.Medal.isna())].groupby('Year')['Medal'].count()\n",
    "group"
   ]
  },
  {
   "cell_type": "code",
   "execution_count": 111,
   "metadata": {},
   "outputs": [
    {
     "data": {
      "application/vnd.plotly.v1+json": {
       "data": [
        {
         "name": "China medals",
         "type": "bar",
         "uid": "99a48d9e-d56d-11e8-a4c1-40167e8eb1f3",
         "x": [
          "1984",
          "1988",
          "1992",
          "1994",
          "1996",
          "1998",
          "2000",
          "2002",
          "2004",
          "2006",
          "2008",
          "2010",
          "2012",
          "2014",
          "2016"
         ],
         "y": [
          74,
          50,
          73,
          3,
          94,
          14,
          65,
          14,
          82,
          9,
          170,
          15,
          117,
          12,
          109
         ]
        }
       ],
       "layout": {
        "title": "China medals",
        "xaxis": {
         "title": "Year"
        }
       }
      },
      "text/html": [
       "<div id=\"30c78b32-f1a2-44d3-b3d7-074b230b612c\" style=\"height: 525px; width: 100%;\" class=\"plotly-graph-div\"></div><script type=\"text/javascript\">require([\"plotly\"], function(Plotly) { window.PLOTLYENV=window.PLOTLYENV || {};window.PLOTLYENV.BASE_URL=\"https://plot.ly\";Plotly.newPlot(\"30c78b32-f1a2-44d3-b3d7-074b230b612c\", [{\"name\": \"China medals\", \"x\": [\"1984\", \"1988\", \"1992\", \"1994\", \"1996\", \"1998\", \"2000\", \"2002\", \"2004\", \"2006\", \"2008\", \"2010\", \"2012\", \"2014\", \"2016\"], \"y\": [74, 50, 73, 3, 94, 14, 65, 14, 82, 9, 170, 15, 117, 12, 109], \"type\": \"bar\", \"uid\": \"99a48d9e-d56d-11e8-a4c1-40167e8eb1f3\"}], {\"title\": \"China medals\", \"xaxis\": {\"title\": \"Year\"}}, {\"showLink\": false, \"linkText\": \"Export to plot.ly\"})});</script>"
      ],
      "text/vnd.plotly.v1+html": [
       "<div id=\"30c78b32-f1a2-44d3-b3d7-074b230b612c\" style=\"height: 525px; width: 100%;\" class=\"plotly-graph-div\"></div><script type=\"text/javascript\">require([\"plotly\"], function(Plotly) { window.PLOTLYENV=window.PLOTLYENV || {};window.PLOTLYENV.BASE_URL=\"https://plot.ly\";Plotly.newPlot(\"30c78b32-f1a2-44d3-b3d7-074b230b612c\", [{\"name\": \"China medals\", \"x\": [\"1984\", \"1988\", \"1992\", \"1994\", \"1996\", \"1998\", \"2000\", \"2002\", \"2004\", \"2006\", \"2008\", \"2010\", \"2012\", \"2014\", \"2016\"], \"y\": [74, 50, 73, 3, 94, 14, 65, 14, 82, 9, 170, 15, 117, 12, 109], \"type\": \"bar\", \"uid\": \"99a48d9e-d56d-11e8-a4c1-40167e8eb1f3\"}], {\"title\": \"China medals\", \"xaxis\": {\"title\": \"Year\"}}, {\"showLink\": false, \"linkText\": \"Export to plot.ly\"})});</script>"
      ]
     },
     "metadata": {},
     "output_type": "display_data"
    }
   ],
   "source": [
    "trace1 = go.Bar(\n",
    "    x=[str(i) for i in group.index],\n",
    "    y=group.values,\n",
    "    name='China medals'\n",
    ")\n",
    "\n",
    "data = [trace1]\n",
    "layout = {'title': 'China medals', 'xaxis': {'title': 'Year'}}\n",
    "\n",
    "fig = go.Figure(data=data, layout=layout)\n",
    "iplot(fig, show_link=False)"
   ]
  },
  {
   "cell_type": "code",
   "execution_count": 112,
   "metadata": {
    "scrolled": false
   },
   "outputs": [
    {
     "data": {
      "text/html": [
       "<div>\n",
       "<style scoped>\n",
       "    .dataframe tbody tr th:only-of-type {\n",
       "        vertical-align: middle;\n",
       "    }\n",
       "\n",
       "    .dataframe tbody tr th {\n",
       "        vertical-align: top;\n",
       "    }\n",
       "\n",
       "    .dataframe thead th {\n",
       "        text-align: right;\n",
       "    }\n",
       "</style>\n",
       "<table border=\"1\" class=\"dataframe\">\n",
       "  <thead>\n",
       "    <tr style=\"text-align: right;\">\n",
       "      <th>Medal</th>\n",
       "      <th>Bronze</th>\n",
       "      <th>Gold</th>\n",
       "      <th>Silver</th>\n",
       "    </tr>\n",
       "    <tr>\n",
       "      <th>Year</th>\n",
       "      <th></th>\n",
       "      <th></th>\n",
       "      <th></th>\n",
       "    </tr>\n",
       "  </thead>\n",
       "  <tbody>\n",
       "    <tr>\n",
       "      <th>1984</th>\n",
       "      <td>37</td>\n",
       "      <td>24</td>\n",
       "      <td>13</td>\n",
       "    </tr>\n",
       "    <tr>\n",
       "      <th>1988</th>\n",
       "      <td>30</td>\n",
       "      <td>4</td>\n",
       "      <td>16</td>\n",
       "    </tr>\n",
       "    <tr>\n",
       "      <th>1992</th>\n",
       "      <td>15</td>\n",
       "      <td>14</td>\n",
       "      <td>44</td>\n",
       "    </tr>\n",
       "    <tr>\n",
       "      <th>1994</th>\n",
       "      <td>2</td>\n",
       "      <td>0</td>\n",
       "      <td>1</td>\n",
       "    </tr>\n",
       "    <tr>\n",
       "      <th>1996</th>\n",
       "      <td>15</td>\n",
       "      <td>13</td>\n",
       "      <td>66</td>\n",
       "    </tr>\n",
       "    <tr>\n",
       "      <th>1998</th>\n",
       "      <td>5</td>\n",
       "      <td>0</td>\n",
       "      <td>9</td>\n",
       "    </tr>\n",
       "    <tr>\n",
       "      <th>2000</th>\n",
       "      <td>15</td>\n",
       "      <td>31</td>\n",
       "      <td>19</td>\n",
       "    </tr>\n",
       "    <tr>\n",
       "      <th>2002</th>\n",
       "      <td>7</td>\n",
       "      <td>2</td>\n",
       "      <td>5</td>\n",
       "    </tr>\n",
       "    <tr>\n",
       "      <th>2004</th>\n",
       "      <td>13</td>\n",
       "      <td>42</td>\n",
       "      <td>27</td>\n",
       "    </tr>\n",
       "    <tr>\n",
       "      <th>2006</th>\n",
       "      <td>4</td>\n",
       "      <td>2</td>\n",
       "      <td>3</td>\n",
       "    </tr>\n",
       "    <tr>\n",
       "      <th>2008</th>\n",
       "      <td>49</td>\n",
       "      <td>72</td>\n",
       "      <td>49</td>\n",
       "    </tr>\n",
       "    <tr>\n",
       "      <th>2010</th>\n",
       "      <td>7</td>\n",
       "      <td>7</td>\n",
       "      <td>1</td>\n",
       "    </tr>\n",
       "    <tr>\n",
       "      <th>2012</th>\n",
       "      <td>29</td>\n",
       "      <td>50</td>\n",
       "      <td>38</td>\n",
       "    </tr>\n",
       "    <tr>\n",
       "      <th>2014</th>\n",
       "      <td>5</td>\n",
       "      <td>3</td>\n",
       "      <td>4</td>\n",
       "    </tr>\n",
       "    <tr>\n",
       "      <th>2016</th>\n",
       "      <td>35</td>\n",
       "      <td>44</td>\n",
       "      <td>30</td>\n",
       "    </tr>\n",
       "  </tbody>\n",
       "</table>\n",
       "</div>"
      ],
      "text/plain": [
       "Medal  Bronze  Gold  Silver\n",
       "Year                       \n",
       "1984       37    24      13\n",
       "1988       30     4      16\n",
       "1992       15    14      44\n",
       "1994        2     0       1\n",
       "1996       15    13      66\n",
       "1998        5     0       9\n",
       "2000       15    31      19\n",
       "2002        7     2       5\n",
       "2004       13    42      27\n",
       "2006        4     2       3\n",
       "2008       49    72      49\n",
       "2010        7     7       1\n",
       "2012       29    50      38\n",
       "2014        5     3       4\n",
       "2016       35    44      30"
      ]
     },
     "execution_count": 112,
     "metadata": {},
     "output_type": "execute_result"
    }
   ],
   "source": [
    "china_medals = pd.crosstab(df[(df.Team == 'China') & (~df.Medal.isna())].Year,\n",
    "            df[(df.Team == 'China') & (~df.Medal.isna())].Medal)\n",
    "china_medals"
   ]
  },
  {
   "cell_type": "code",
   "execution_count": 113,
   "metadata": {},
   "outputs": [
    {
     "data": {
      "application/vnd.plotly.v1+json": {
       "data": [
        {
         "name": "Gold",
         "type": "bar",
         "uid": "9bff83ee-d56d-11e8-bba6-40167e8eb1f3",
         "x": [
          "1984",
          "1988",
          "1992",
          "1994",
          "1996",
          "1998",
          "2000",
          "2002",
          "2004",
          "2006",
          "2008",
          "2010",
          "2012",
          "2014",
          "2016"
         ],
         "y": [
          24,
          4,
          14,
          0,
          13,
          0,
          31,
          2,
          42,
          2,
          72,
          7,
          50,
          3,
          44
         ]
        },
        {
         "name": "Silver",
         "type": "bar",
         "uid": "9bff83ef-d56d-11e8-962e-40167e8eb1f3",
         "x": [
          "1984",
          "1988",
          "1992",
          "1994",
          "1996",
          "1998",
          "2000",
          "2002",
          "2004",
          "2006",
          "2008",
          "2010",
          "2012",
          "2014",
          "2016"
         ],
         "y": [
          13,
          16,
          44,
          1,
          66,
          9,
          19,
          5,
          27,
          3,
          49,
          1,
          38,
          4,
          30
         ]
        },
        {
         "name": "Bronze",
         "type": "bar",
         "uid": "9bff83f0-d56d-11e8-a7f8-40167e8eb1f3",
         "x": [
          "1984",
          "1988",
          "1992",
          "1994",
          "1996",
          "1998",
          "2000",
          "2002",
          "2004",
          "2006",
          "2008",
          "2010",
          "2012",
          "2014",
          "2016"
         ],
         "y": [
          37,
          30,
          15,
          2,
          15,
          5,
          15,
          7,
          13,
          4,
          49,
          7,
          29,
          5,
          35
         ]
        }
       ],
       "layout": {
        "title": "China medals",
        "xaxis": {
         "title": "Year"
        }
       }
      },
      "text/html": [
       "<div id=\"1c046015-4815-4e51-a2d6-e9db1e7ae6bd\" style=\"height: 525px; width: 100%;\" class=\"plotly-graph-div\"></div><script type=\"text/javascript\">require([\"plotly\"], function(Plotly) { window.PLOTLYENV=window.PLOTLYENV || {};window.PLOTLYENV.BASE_URL=\"https://plot.ly\";Plotly.newPlot(\"1c046015-4815-4e51-a2d6-e9db1e7ae6bd\", [{\"name\": \"Gold\", \"x\": [\"1984\", \"1988\", \"1992\", \"1994\", \"1996\", \"1998\", \"2000\", \"2002\", \"2004\", \"2006\", \"2008\", \"2010\", \"2012\", \"2014\", \"2016\"], \"y\": [24, 4, 14, 0, 13, 0, 31, 2, 42, 2, 72, 7, 50, 3, 44], \"type\": \"bar\", \"uid\": \"9bff83ee-d56d-11e8-bba6-40167e8eb1f3\"}, {\"name\": \"Silver\", \"x\": [\"1984\", \"1988\", \"1992\", \"1994\", \"1996\", \"1998\", \"2000\", \"2002\", \"2004\", \"2006\", \"2008\", \"2010\", \"2012\", \"2014\", \"2016\"], \"y\": [13, 16, 44, 1, 66, 9, 19, 5, 27, 3, 49, 1, 38, 4, 30], \"type\": \"bar\", \"uid\": \"9bff83ef-d56d-11e8-962e-40167e8eb1f3\"}, {\"name\": \"Bronze\", \"x\": [\"1984\", \"1988\", \"1992\", \"1994\", \"1996\", \"1998\", \"2000\", \"2002\", \"2004\", \"2006\", \"2008\", \"2010\", \"2012\", \"2014\", \"2016\"], \"y\": [37, 30, 15, 2, 15, 5, 15, 7, 13, 4, 49, 7, 29, 5, 35], \"type\": \"bar\", \"uid\": \"9bff83f0-d56d-11e8-a7f8-40167e8eb1f3\"}], {\"title\": \"China medals\", \"xaxis\": {\"title\": \"Year\"}}, {\"showLink\": false, \"linkText\": \"Export to plot.ly\"})});</script>"
      ],
      "text/vnd.plotly.v1+html": [
       "<div id=\"1c046015-4815-4e51-a2d6-e9db1e7ae6bd\" style=\"height: 525px; width: 100%;\" class=\"plotly-graph-div\"></div><script type=\"text/javascript\">require([\"plotly\"], function(Plotly) { window.PLOTLYENV=window.PLOTLYENV || {};window.PLOTLYENV.BASE_URL=\"https://plot.ly\";Plotly.newPlot(\"1c046015-4815-4e51-a2d6-e9db1e7ae6bd\", [{\"name\": \"Gold\", \"x\": [\"1984\", \"1988\", \"1992\", \"1994\", \"1996\", \"1998\", \"2000\", \"2002\", \"2004\", \"2006\", \"2008\", \"2010\", \"2012\", \"2014\", \"2016\"], \"y\": [24, 4, 14, 0, 13, 0, 31, 2, 42, 2, 72, 7, 50, 3, 44], \"type\": \"bar\", \"uid\": \"9bff83ee-d56d-11e8-bba6-40167e8eb1f3\"}, {\"name\": \"Silver\", \"x\": [\"1984\", \"1988\", \"1992\", \"1994\", \"1996\", \"1998\", \"2000\", \"2002\", \"2004\", \"2006\", \"2008\", \"2010\", \"2012\", \"2014\", \"2016\"], \"y\": [13, 16, 44, 1, 66, 9, 19, 5, 27, 3, 49, 1, 38, 4, 30], \"type\": \"bar\", \"uid\": \"9bff83ef-d56d-11e8-962e-40167e8eb1f3\"}, {\"name\": \"Bronze\", \"x\": [\"1984\", \"1988\", \"1992\", \"1994\", \"1996\", \"1998\", \"2000\", \"2002\", \"2004\", \"2006\", \"2008\", \"2010\", \"2012\", \"2014\", \"2016\"], \"y\": [37, 30, 15, 2, 15, 5, 15, 7, 13, 4, 49, 7, 29, 5, 35], \"type\": \"bar\", \"uid\": \"9bff83f0-d56d-11e8-a7f8-40167e8eb1f3\"}], {\"title\": \"China medals\", \"xaxis\": {\"title\": \"Year\"}}, {\"showLink\": false, \"linkText\": \"Export to plot.ly\"})});</script>"
      ]
     },
     "metadata": {},
     "output_type": "display_data"
    }
   ],
   "source": [
    "gold = go.Bar(\n",
    "    x=[str(i) for i in china_medals.index],\n",
    "    y=china_medals.Gold,\n",
    "    name='Gold'\n",
    ")\n",
    "bronze = go.Bar(\n",
    "    x=[str(i) for i in china_medals.index],\n",
    "    y=china_medals.Bronze,\n",
    "    name='Bronze'\n",
    ")\n",
    "silver = go.Bar(\n",
    "    x=[str(i) for i in china_medals.index],\n",
    "    y=china_medals.Silver,\n",
    "    name='Silver'\n",
    ")\n",
    "\n",
    "data = [gold, silver, bronze]\n",
    "layout = {'title': 'China medals', 'xaxis': {'title': 'Year'}}\n",
    "\n",
    "fig = go.Figure(data=data, layout=layout)\n",
    "iplot(fig, show_link=False)"
   ]
  },
  {
   "cell_type": "code",
   "execution_count": null,
   "metadata": {},
   "outputs": [],
   "source": []
  }
 ],
 "metadata": {
  "kernelspec": {
   "display_name": "Python 3",
   "language": "python",
   "name": "python3"
  },
  "language_info": {
   "codemirror_mode": {
    "name": "ipython",
    "version": 3
   },
   "file_extension": ".py",
   "mimetype": "text/x-python",
   "name": "python",
   "nbconvert_exporter": "python",
   "pygments_lexer": "ipython3",
   "version": "3.6.5"
  }
 },
 "nbformat": 4,
 "nbformat_minor": 2
}
