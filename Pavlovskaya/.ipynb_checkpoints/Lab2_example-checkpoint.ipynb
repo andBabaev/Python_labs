{
 "cells": [
  {
   "cell_type": "markdown",
   "metadata": {},
   "source": [
    "\n",
    "<h1 id=\"Практическая-работа-№2\">Практическая работа №2<a class=\"anchor-link\" href=\"#Практическая-работа-№2\">¶</a></h1><h2 id=\"Вариант-№20\">Вариант №20<a class=\"anchor-link\" href=\"#Вариант-№20\">¶</a></h2>\n"
   ]
  },
  {
   "cell_type": "markdown",
   "metadata": {},
   "source": [
    "\n",
    "<p>Импортируем необходимые библиотеки</p>\n"
   ]
  },
  {
   "cell_type": "code",
   "execution_count": null,
   "metadata": {},
   "outputs": [],
   "source": [
    "\n",
    "import matplotlib.pyplot as plt\n",
    "import numpy as np\n",
    "\n",
    "%matplotlib inline\n",
    "\n"
   ]
  },
  {
   "cell_type": "markdown",
   "metadata": {},
   "source": [
    "\n",
    "<h4 id=\"Уравнение-прямой-№1\">Уравнение прямой №1<a class=\"anchor-link\" href=\"#Уравнение-прямой-№1\">¶</a></h4>\n"
   ]
  },
  {
   "cell_type": "markdown",
   "metadata": {},
   "source": [
    "\n",
    "<p>$y = -0.5x$</p>\n"
   ]
  },
  {
   "cell_type": "markdown",
   "metadata": {},
   "source": [
    "\n",
    "<p>Определяем функцию прямой</p>\n"
   ]
  },
  {
   "cell_type": "code",
   "execution_count": null,
   "metadata": {},
   "outputs": [],
   "source": [
    "\n",
    "def f1(x):\n",
    "    return -0.5*x\n",
    "\n"
   ]
  },
  {
   "cell_type": "markdown",
   "metadata": {},
   "source": [
    "\n",
    "<p>Создаем массив точек для оси Х размером 100 в диапазоне от -4 до 0. Затем вычисляем значения функции для этого массива точек</p>\n"
   ]
  },
  {
   "cell_type": "code",
   "execution_count": null,
   "metadata": {},
   "outputs": [],
   "source": [
    "\n",
    "x = np.linspace(-4,0,100)\n",
    "y = f1(x)\n",
    "\n"
   ]
  },
  {
   "cell_type": "markdown",
   "metadata": {},
   "source": [
    "\n",
    "<p>Строим график</p>\n"
   ]
  },
  {
   "cell_type": "code",
   "execution_count": null,
   "metadata": {},
   "outputs": [],
   "source": [
    "\n",
    "plt.figure(figsize=(5,5))\n",
    "plt.plot(x,y,'-r', linewidth=3)\n",
    "plt.grid(True)\n",
    "\n"
   ]
  },
  {
   "cell_type": "markdown",
   "metadata": {},
   "source": [
    "\n",
    "<h4 id=\"Уравнение-окружности-№2\">Уравнение окружности №2<a class=\"anchor-link\" href=\"#Уравнение-окружности-№2\">¶</a></h4>\n"
   ]
  },
  {
   "cell_type": "markdown",
   "metadata": {},
   "source": [
    "\n",
    "<p>$y = 2 - \\sqrt{4-x^2}$</p>\n"
   ]
  },
  {
   "cell_type": "code",
   "execution_count": null,
   "metadata": {},
   "outputs": [],
   "source": [
    "\n",
    "def f2(x):\n",
    "    return 2 - np.sqrt(4-x*x)\n",
    "\n"
   ]
  },
  {
   "cell_type": "code",
   "execution_count": null,
   "metadata": {},
   "outputs": [],
   "source": [
    "\n",
    "x = np.linspace(0,2,100)\n",
    "y = f2(x)\n",
    "\n"
   ]
  },
  {
   "cell_type": "code",
   "execution_count": null,
   "metadata": {},
   "outputs": [],
   "source": [
    "\n",
    "plt.figure(figsize=(5,5))\n",
    "plt.plot(x,y,'-r', linewidth=3)\n",
    "plt.grid(True)\n",
    "\n"
   ]
  },
  {
   "cell_type": "markdown",
   "metadata": {},
   "source": [
    "\n",
    "<h4 id=\"Уравнение-окружности-№3\">Уравнение окружности №3<a class=\"anchor-link\" href=\"#Уравнение-окружности-№3\">¶</a></h4>\n"
   ]
  },
  {
   "cell_type": "markdown",
   "metadata": {},
   "source": [
    "\n",
    "<p>$y = \\sqrt{4-(x+2)^2}$</p>\n"
   ]
  },
  {
   "cell_type": "code",
   "execution_count": null,
   "metadata": {},
   "outputs": [],
   "source": [
    "\n",
    "def f3(x):\n",
    "    return np.sqrt(4-(x-2)*(x-2))\n",
    "\n"
   ]
  },
  {
   "cell_type": "code",
   "execution_count": null,
   "metadata": {},
   "outputs": [],
   "source": [
    "\n",
    "x = np.linspace(2,4,100)\n",
    "y = f3(x)\n",
    "\n"
   ]
  },
  {
   "cell_type": "code",
   "execution_count": null,
   "metadata": {},
   "outputs": [],
   "source": [
    "\n",
    "plt.figure(figsize=(5,5))\n",
    "plt.plot(x,y,'-r', linewidth=3)\n",
    "plt.grid(True)\n",
    "\n"
   ]
  },
  {
   "cell_type": "markdown",
   "metadata": {},
   "source": [
    "\n",
    "<h4 id=\"Уравнение-прямой-№4\">Уравнение прямой №4<a class=\"anchor-link\" href=\"#Уравнение-прямой-№4\">¶</a></h4>\n"
   ]
  },
  {
   "cell_type": "markdown",
   "metadata": {},
   "source": [
    "\n",
    "<p>$y = -x + 4$</p>\n"
   ]
  },
  {
   "cell_type": "code",
   "execution_count": null,
   "metadata": {},
   "outputs": [],
   "source": [
    "\n",
    "def f4(x):\n",
    "    return -1*x + 4\n",
    "\n"
   ]
  },
  {
   "cell_type": "code",
   "execution_count": null,
   "metadata": {},
   "outputs": [],
   "source": [
    "\n",
    "x = np.linspace(4,6,100)\n",
    "y = f4(x)\n",
    "\n"
   ]
  },
  {
   "cell_type": "code",
   "execution_count": null,
   "metadata": {},
   "outputs": [],
   "source": [
    "\n",
    "plt.figure(figsize=(5,5))\n",
    "plt.plot(x,y,'-r', linewidth=3)\n",
    "plt.grid(True)\n",
    "\n"
   ]
  },
  {
   "cell_type": "markdown",
   "metadata": {},
   "source": [
    "\n",
    "<h4 id=\"Собираем-все-уравнения-в-одну-функцию\">Собираем все уравнения в одну функцию<a class=\"anchor-link\" href=\"#Собираем-все-уравнения-в-одну-функцию\">¶</a></h4>\n"
   ]
  },
  {
   "cell_type": "code",
   "execution_count": null,
   "metadata": {},
   "outputs": [],
   "source": [
    "\n",
    "def foo(x):\n",
    "    if (x >= -4 and x < 0 ):\n",
    "        return f1(x)\n",
    "    elif (x >= 0 and x < 2 ):\n",
    "        return f2(x)\n",
    "    elif (x >= 2 and x < 4 ):\n",
    "        return f3(x)\n",
    "    elif (x >= 4):\n",
    "        return f4(x)\n",
    "\n"
   ]
  },
  {
   "cell_type": "code",
   "execution_count": null,
   "metadata": {},
   "outputs": [],
   "source": [
    "\n",
    "x = np.linspace(-4,5,1000)\n",
    "y = [foo(i) for i in x]\n",
    "\n"
   ]
  },
  {
   "cell_type": "code",
   "execution_count": null,
   "metadata": {},
   "outputs": [],
   "source": [
    "\n",
    "plt.figure(figsize=(12,4))\n",
    "plt.plot(x,y,'-r', linewidth=3)\n",
    "plt.grid(True)\n",
    "\n"
   ]
  }
 ],
 "metadata": {
  "kernelspec": {
   "display_name": "Python 3",
   "language": "python",
   "name": "python3"
  },
  "language_info": {
   "codemirror_mode": {
    "name": "ipython",
    "version": 3
   },
   "file_extension": ".py",
   "mimetype": "text/x-python",
   "name": "python",
   "nbconvert_exporter": "python",
   "pygments_lexer": "ipython3",
   "version": "3.6.5"
  }
 },
 "nbformat": 4,
 "nbformat_minor": 1
}
